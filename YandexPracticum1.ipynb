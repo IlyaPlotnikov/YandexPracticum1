{
 "cells": [
  {
   "cell_type": "markdown",
   "metadata": {
    "id": "E0vqbgi9ay0H"
   },
   "source": [
    "# Яндекс.Музыка"
   ]
  },
  {
   "cell_type": "markdown",
   "metadata": {
    "id": "VUC88oWjTJw2"
   },
   "source": [
    "Сравнение Москвы и Петербурга окружено мифами. Например:\n",
    " * Москва — мегаполис, подчинённый жёсткому ритму рабочей недели;\n",
    " * Петербург — культурная столица, со своими вкусами.\n",
    "\n",
    "На данных Яндекс.Музыки вы сравните поведение пользователей двух столиц.\n",
    "\n",
    "**Цель исследования** — проверьте три гипотезы:\n",
    "1. Активность пользователей зависит от дня недели. Причём в Москве и Петербурге это проявляется по-разному.\n",
    "2. В понедельник утром в Москве преобладают одни жанры, а в Петербурге — другие. Так же и вечером пятницы преобладают разные жанры — в зависимости от города. \n",
    "3. Москва и Петербург предпочитают разные жанры музыки. В Москве чаще слушают поп-музыку, в Петербурге — русский рэп.\n",
    "\n",
    "**Ход исследования**\n",
    "\n",
    "Данные о поведении пользователей вы получите из файла `yandex_music_project.csv`. О качестве данных ничего не известно. Поэтому перед проверкой гипотез понадобится обзор данных. \n",
    "\n",
    "Вы проверите данные на ошибки и оцените их влияние на исследование. Затем, на этапе предобработки вы поищете возможность исправить самые критичные ошибки данных.\n",
    " \n",
    "Таким образом, исследование пройдёт в три этапа:\n",
    " 1. Обзор данных.\n",
    " 2. Предобработка данных.\n",
    " 3. Проверка гипотез.\n",
    "\n"
   ]
  },
  {
   "cell_type": "markdown",
   "metadata": {
    "id": "Ml1hmfXC_Zcs"
   },
   "source": [
    "## Обзор данных\n",
    "\n",
    "Составьте первое представление о данных Яндекс.Музыки.\n",
    "\n",
    "\n"
   ]
  },
  {
   "cell_type": "markdown",
   "metadata": {
    "id": "57eAOGIz_Zcs"
   },
   "source": [
    "Основной инструмент аналитика — `pandas`. Импортируйте эту библиотеку."
   ]
  },
  {
   "cell_type": "code",
   "execution_count": 34,
   "metadata": {
    "id": "AXN7PHPN_Zcs"
   },
   "outputs": [],
   "source": [
    "import pandas as pd# Импортируем библиотеку pandas для работы с датафреймами"
   ]
  },
  {
   "cell_type": "markdown",
   "metadata": {
    "id": "SG23P8tt_Zcs"
   },
   "source": [
    "\n",
    "Прочитайте файл `yandex_music_project.csv` из папки `/datasets` и сохраните его в переменной `df`:"
   ]
  },
  {
   "cell_type": "code",
   "execution_count": 35,
   "metadata": {
    "id": "fFVu7vqh_Zct"
   },
   "outputs": [],
   "source": [
    "df = pd.read_csv('/datasets/music_project.csv') #в переменную df кладем данный датасет"
   ]
  },
  {
   "cell_type": "markdown",
   "metadata": {
    "id": "rDoOMd3uTqnZ"
   },
   "source": [
    "\n",
    "\n",
    "Выведите на экран первые десять строк таблицы:"
   ]
  },
  {
   "cell_type": "code",
   "execution_count": 36,
   "metadata": {
    "id": "oWTVX3gW_Zct"
   },
   "outputs": [
    {
     "data": {
      "text/html": [
       "<div>\n",
       "<style scoped>\n",
       "    .dataframe tbody tr th:only-of-type {\n",
       "        vertical-align: middle;\n",
       "    }\n",
       "\n",
       "    .dataframe tbody tr th {\n",
       "        vertical-align: top;\n",
       "    }\n",
       "\n",
       "    .dataframe thead th {\n",
       "        text-align: right;\n",
       "    }\n",
       "</style>\n",
       "<table border=\"1\" class=\"dataframe\">\n",
       "  <thead>\n",
       "    <tr style=\"text-align: right;\">\n",
       "      <th></th>\n",
       "      <th>userID</th>\n",
       "      <th>Track</th>\n",
       "      <th>artist</th>\n",
       "      <th>genre</th>\n",
       "      <th>City</th>\n",
       "      <th>time</th>\n",
       "      <th>Day</th>\n",
       "    </tr>\n",
       "  </thead>\n",
       "  <tbody>\n",
       "    <tr>\n",
       "      <th>0</th>\n",
       "      <td>FFB692EC</td>\n",
       "      <td>Kamigata To Boots</td>\n",
       "      <td>The Mass Missile</td>\n",
       "      <td>rock</td>\n",
       "      <td>Saint-Petersburg</td>\n",
       "      <td>20:28:33</td>\n",
       "      <td>Wednesday</td>\n",
       "    </tr>\n",
       "    <tr>\n",
       "      <th>1</th>\n",
       "      <td>55204538</td>\n",
       "      <td>Delayed Because of Accident</td>\n",
       "      <td>Andreas Rönnberg</td>\n",
       "      <td>rock</td>\n",
       "      <td>Moscow</td>\n",
       "      <td>14:07:09</td>\n",
       "      <td>Friday</td>\n",
       "    </tr>\n",
       "    <tr>\n",
       "      <th>2</th>\n",
       "      <td>20EC38</td>\n",
       "      <td>Funiculì funiculà</td>\n",
       "      <td>Mario Lanza</td>\n",
       "      <td>pop</td>\n",
       "      <td>Saint-Petersburg</td>\n",
       "      <td>20:58:07</td>\n",
       "      <td>Wednesday</td>\n",
       "    </tr>\n",
       "    <tr>\n",
       "      <th>3</th>\n",
       "      <td>A3DD03C9</td>\n",
       "      <td>Dragons in the Sunset</td>\n",
       "      <td>Fire + Ice</td>\n",
       "      <td>folk</td>\n",
       "      <td>Saint-Petersburg</td>\n",
       "      <td>08:37:09</td>\n",
       "      <td>Monday</td>\n",
       "    </tr>\n",
       "    <tr>\n",
       "      <th>4</th>\n",
       "      <td>E2DC1FAE</td>\n",
       "      <td>Soul People</td>\n",
       "      <td>Space Echo</td>\n",
       "      <td>dance</td>\n",
       "      <td>Moscow</td>\n",
       "      <td>08:34:34</td>\n",
       "      <td>Monday</td>\n",
       "    </tr>\n",
       "    <tr>\n",
       "      <th>5</th>\n",
       "      <td>842029A1</td>\n",
       "      <td>Преданная</td>\n",
       "      <td>IMPERVTOR</td>\n",
       "      <td>rusrap</td>\n",
       "      <td>Saint-Petersburg</td>\n",
       "      <td>13:09:41</td>\n",
       "      <td>Friday</td>\n",
       "    </tr>\n",
       "    <tr>\n",
       "      <th>6</th>\n",
       "      <td>4CB90AA5</td>\n",
       "      <td>True</td>\n",
       "      <td>Roman Messer</td>\n",
       "      <td>dance</td>\n",
       "      <td>Moscow</td>\n",
       "      <td>13:00:07</td>\n",
       "      <td>Wednesday</td>\n",
       "    </tr>\n",
       "    <tr>\n",
       "      <th>7</th>\n",
       "      <td>F03E1C1F</td>\n",
       "      <td>Feeling This Way</td>\n",
       "      <td>Polina Griffith</td>\n",
       "      <td>dance</td>\n",
       "      <td>Moscow</td>\n",
       "      <td>20:47:49</td>\n",
       "      <td>Wednesday</td>\n",
       "    </tr>\n",
       "    <tr>\n",
       "      <th>8</th>\n",
       "      <td>8FA1D3BE</td>\n",
       "      <td>И вновь продолжается бой</td>\n",
       "      <td>NaN</td>\n",
       "      <td>ruspop</td>\n",
       "      <td>Moscow</td>\n",
       "      <td>09:17:40</td>\n",
       "      <td>Friday</td>\n",
       "    </tr>\n",
       "    <tr>\n",
       "      <th>9</th>\n",
       "      <td>E772D5C0</td>\n",
       "      <td>Pessimist</td>\n",
       "      <td>NaN</td>\n",
       "      <td>dance</td>\n",
       "      <td>Saint-Petersburg</td>\n",
       "      <td>21:20:49</td>\n",
       "      <td>Wednesday</td>\n",
       "    </tr>\n",
       "  </tbody>\n",
       "</table>\n",
       "</div>"
      ],
      "text/plain": [
       "     userID                        Track            artist   genre  \\\n",
       "0  FFB692EC            Kamigata To Boots  The Mass Missile    rock   \n",
       "1  55204538  Delayed Because of Accident  Andreas Rönnberg    rock   \n",
       "2    20EC38            Funiculì funiculà       Mario Lanza     pop   \n",
       "3  A3DD03C9        Dragons in the Sunset        Fire + Ice    folk   \n",
       "4  E2DC1FAE                  Soul People        Space Echo   dance   \n",
       "5  842029A1                    Преданная         IMPERVTOR  rusrap   \n",
       "6  4CB90AA5                         True      Roman Messer   dance   \n",
       "7  F03E1C1F             Feeling This Way   Polina Griffith   dance   \n",
       "8  8FA1D3BE     И вновь продолжается бой               NaN  ruspop   \n",
       "9  E772D5C0                    Pessimist               NaN   dance   \n",
       "\n",
       "             City        time        Day  \n",
       "0  Saint-Petersburg  20:28:33  Wednesday  \n",
       "1            Moscow  14:07:09     Friday  \n",
       "2  Saint-Petersburg  20:58:07  Wednesday  \n",
       "3  Saint-Petersburg  08:37:09     Monday  \n",
       "4            Moscow  08:34:34     Monday  \n",
       "5  Saint-Petersburg  13:09:41     Friday  \n",
       "6            Moscow  13:00:07  Wednesday  \n",
       "7            Moscow  20:47:49  Wednesday  \n",
       "8            Moscow  09:17:40     Friday  \n",
       "9  Saint-Petersburg  21:20:49  Wednesday  "
      ]
     },
     "execution_count": 36,
     "metadata": {},
     "output_type": "execute_result"
    }
   ],
   "source": [
    "df.head(10)# получение первых 10 строк таблицы df"
   ]
  },
  {
   "cell_type": "markdown",
   "metadata": {
    "id": "EO73Kwic_Zct"
   },
   "source": [
    "Одной командой получить общую информацию о таблице:"
   ]
  },
  {
   "cell_type": "code",
   "execution_count": 37,
   "metadata": {
    "id": "DSf2kIb-_Zct"
   },
   "outputs": [
    {
     "name": "stdout",
     "output_type": "stream",
     "text": [
      "<class 'pandas.core.frame.DataFrame'>\n",
      "RangeIndex: 65079 entries, 0 to 65078\n",
      "Data columns (total 7 columns):\n",
      " #   Column    Non-Null Count  Dtype \n",
      "---  ------    --------------  ----- \n",
      " 0     userID  65079 non-null  object\n",
      " 1   Track     63848 non-null  object\n",
      " 2   artist    57876 non-null  object\n",
      " 3   genre     63881 non-null  object\n",
      " 4     City    65079 non-null  object\n",
      " 5   time      65079 non-null  object\n",
      " 6   Day       65079 non-null  object\n",
      "dtypes: object(7)\n",
      "memory usage: 3.5+ MB\n"
     ]
    }
   ],
   "source": [
    "df.info()# получение общей информации о данных в таблице df"
   ]
  },
  {
   "cell_type": "markdown",
   "metadata": {
    "id": "TaQ2Iwbr_Zct"
   },
   "source": [
    "Итак, в таблице семь столбцов. Тип данных во всех столбцах — `object`.\n",
    "\n",
    "Согласно документации к данным:\n",
    "* `userID` — идентификатор пользователя;\n",
    "* `Track` — название трека;  \n",
    "* `artist` — имя исполнителя;\n",
    "* `genre` — название жанра;\n",
    "* `City` — город пользователя;\n",
    "* `time` — время начала прослушивания;\n",
    "* `Day` — день недели.\n",
    "\n",
    "В названиях колонок видны три нарушения стиля:\n",
    "1. Строчные буквы сочетаются с прописными.\n",
    "2. Встречаются пробелы.\n",
    "3. Найдите ещё одну проблему в названии колонок и опишите её в этом пункте.\n",
    "\n",
    "\n",
    "\n",
    "Количество значений в столбцах различается. Значит, в данных есть пропущенные значения.\n"
   ]
  },
  {
   "cell_type": "markdown",
   "metadata": {},
   "source": [
    "<div class=\"alert alert-info\">\n",
    "\n",
    "#  <b> <font color = purple>Проблема: отсутствие змеиного индекса(так, userID должен быть user_ID) </font>\n",
    "\n"
   ]
  },
  {
   "cell_type": "markdown",
   "metadata": {
    "id": "MCB6-dXG_Zct"
   },
   "source": [
    "**Выводы**\n",
    "\n",
    "В каждой строке таблицы — данные о прослушанном треке. Часть колонок описывает саму композицию: название, исполнителя и жанр. Остальные данные рассказывают о пользователе: из какого он города, когда он слушал музыку. \n",
    "\n",
    "Предварительно можно утверждать, что, данных достаточно для проверки гипотез. Но встречаются пропуски в данных, а в названиях колонок — расхождения с хорошим стилем.\n",
    "\n",
    "Чтобы двигаться дальше, нужно устранить проблемы в данных."
   ]
  },
  {
   "cell_type": "markdown",
   "metadata": {
    "id": "SjYF6Ub9_Zct"
   },
   "source": [
    "## Предобработка данных\n",
    "Исправьте стиль в заголовках столбцов, исключите пропуски. Затем проверьте данные на дубликаты."
   ]
  },
  {
   "cell_type": "markdown",
   "metadata": {
    "id": "dIaKXr29_Zct"
   },
   "source": [
    "### Стиль заголовков\n",
    "Выведите на экран названия столбцов:"
   ]
  },
  {
   "cell_type": "code",
   "execution_count": 38,
   "metadata": {
    "id": "oKOTdF_Q_Zct"
   },
   "outputs": [
    {
     "data": {
      "text/plain": [
       "Index(['  userID', 'Track', 'artist', 'genre', '  City  ', 'time', 'Day'], dtype='object')"
      ]
     },
     "execution_count": 38,
     "metadata": {},
     "output_type": "execute_result"
    }
   ],
   "source": [
    "df.columns# перечень названий столбцов таблицы df"
   ]
  },
  {
   "cell_type": "markdown",
   "metadata": {
    "id": "zj5534cv_Zct"
   },
   "source": [
    "Приведите названия в соответствие с хорошим стилем:\n",
    "* несколько слов в названии запишите в «змеином_регистре»,\n",
    "* все символы сделайте строчными,\n",
    "* устраните пробелы.\n",
    "\n",
    "Для этого переименуйте колонки так:\n",
    "* `'  userID'` → `'user_id'`;\n",
    "* `'Track'` → `'track'`;\n",
    "* `'  City  '` → `'city'`;\n",
    "* `'Day'` → `'day'`."
   ]
  },
  {
   "cell_type": "code",
   "execution_count": 39,
   "metadata": {
    "id": "ISlFqs5y_Zct"
   },
   "outputs": [],
   "source": [
    "#задаем словарь schedule, в которм ключами являются неверные(исходные) названия столбцов, а значениями - корректные(новые) названия\n",
    "schedule={\n",
    "'  userID':'user_id',\n",
    "'Track':'track',\n",
    "'  City  ':'city',\n",
    "'Day': 'day'\n",
    "}\n",
    "df = df.rename(columns=schedule)# переименование столбцов"
   ]
  },
  {
   "cell_type": "markdown",
   "metadata": {
    "id": "1dqbh00J_Zct"
   },
   "source": [
    "Проверьте результат. Для этого ещё раз выведите на экран названия столбцов:"
   ]
  },
  {
   "cell_type": "code",
   "execution_count": 40,
   "metadata": {
    "id": "d4NOAmTW_Zct"
   },
   "outputs": [
    {
     "data": {
      "text/plain": [
       "Index(['user_id', 'track', 'artist', 'genre', 'city', 'time', 'day'], dtype='object')"
      ]
     },
     "execution_count": 40,
     "metadata": {},
     "output_type": "execute_result"
    }
   ],
   "source": [
    "df.columns# проверка результатов - перечень названий столбцов"
   ]
  },
  {
   "cell_type": "markdown",
   "metadata": {
    "id": "5ISfbcfY_Zct"
   },
   "source": [
    "### Пропуски значений\n",
    "Сначала посчитайте, сколько в таблице пропущенных значений. Для этого достаточно двух методов `pandas`:"
   ]
  },
  {
   "cell_type": "code",
   "execution_count": 41,
   "metadata": {
    "id": "RskX29qr_Zct"
   },
   "outputs": [
    {
     "data": {
      "text/plain": [
       "user_id       0\n",
       "track      1231\n",
       "artist     7203\n",
       "genre      1198\n",
       "city          0\n",
       "time          0\n",
       "day           0\n",
       "dtype: int64"
      ]
     },
     "execution_count": 41,
     "metadata": {},
     "output_type": "execute_result"
    }
   ],
   "source": [
    "df.isna().sum()# подсчёт пропусков"
   ]
  },
  {
   "cell_type": "markdown",
   "metadata": {
    "id": "qubhgnlO_Zct"
   },
   "source": [
    "Не все пропущенные значения влияют на исследование. Так в `track` и `artist` пропуски не важны для вашей работы. Достаточно заменить их явными обозначениями.\n",
    "\n",
    "Но пропуски в `genre` могут помешать сравнению музыкальных вкусов в Москве и Санкт-Петербурге. На практике было бы правильно установить причину пропусков и восстановить данные. Такой возможности нет в учебном проекте. Придётся:\n",
    "* заполнить и эти пропуски явными обозначениями,\n",
    "* оценить, насколько они повредят расчётам. "
   ]
  },
  {
   "cell_type": "markdown",
   "metadata": {
    "id": "fSv2laPA_Zct"
   },
   "source": [
    "Замените пропущенные значения в столбцах `track`, `artist` и `genre` на строку `'unknown'`. Для этого создайте список `columns_to_replace`, переберите его элементы циклом `for` и для каждого столбца выполните замену пропущенных значений:"
   ]
  },
  {
   "cell_type": "code",
   "execution_count": 42,
   "metadata": {
    "id": "KplB5qWs_Zct"
   },
   "outputs": [],
   "source": [
    "columns_to_replace=['track','artist','genre'] #создаем список, в котором лежат названия столбцов\n",
    "#с пропусками\n",
    "for i in columns_to_replace:\n",
    "    df[i] = df[i].fillna('unknown')# перебор названий столбцов в цикле и замена пропущенных значений на 'unknown'"
   ]
  },
  {
   "cell_type": "markdown",
   "metadata": {
    "id": "Ilsm-MZo_Zct"
   },
   "source": [
    "Убедитесь, что в таблице не осталось пропусков. Для этого ещё раз посчитайте пропущенные значения."
   ]
  },
  {
   "cell_type": "code",
   "execution_count": 43,
   "metadata": {
    "id": "Tq4nYRX4_Zct"
   },
   "outputs": [
    {
     "data": {
      "text/plain": [
       "user_id    0\n",
       "track      0\n",
       "artist     0\n",
       "genre      0\n",
       "city       0\n",
       "time       0\n",
       "day        0\n",
       "dtype: int64"
      ]
     },
     "execution_count": 43,
     "metadata": {},
     "output_type": "execute_result"
    }
   ],
   "source": [
    "df.isna().sum()# подсчёт пропусков"
   ]
  },
  {
   "cell_type": "markdown",
   "metadata": {
    "id": "BWKRtBJ3_Zct"
   },
   "source": [
    "### Дубликаты\n",
    "Посчитайте явные дубликаты в таблице одной командой:"
   ]
  },
  {
   "cell_type": "code",
   "execution_count": 44,
   "metadata": {
    "id": "36eES_S0_Zct"
   },
   "outputs": [
    {
     "data": {
      "text/plain": [
       "3826"
      ]
     },
     "execution_count": 44,
     "metadata": {},
     "output_type": "execute_result"
    }
   ],
   "source": [
    "df.duplicated().sum()# подсчёт явных дубликатов"
   ]
  },
  {
   "cell_type": "markdown",
   "metadata": {
    "id": "Ot25h6XR_Zct"
   },
   "source": [
    "Вызовите специальный метод `pandas`, чтобы удалить явные дубликаты:"
   ]
  },
  {
   "cell_type": "code",
   "execution_count": 45,
   "metadata": {
    "id": "exFHq6tt_Zct"
   },
   "outputs": [
    {
     "data": {
      "text/html": [
       "<div>\n",
       "<style scoped>\n",
       "    .dataframe tbody tr th:only-of-type {\n",
       "        vertical-align: middle;\n",
       "    }\n",
       "\n",
       "    .dataframe tbody tr th {\n",
       "        vertical-align: top;\n",
       "    }\n",
       "\n",
       "    .dataframe thead th {\n",
       "        text-align: right;\n",
       "    }\n",
       "</style>\n",
       "<table border=\"1\" class=\"dataframe\">\n",
       "  <thead>\n",
       "    <tr style=\"text-align: right;\">\n",
       "      <th></th>\n",
       "      <th>user_id</th>\n",
       "      <th>track</th>\n",
       "      <th>artist</th>\n",
       "      <th>genre</th>\n",
       "      <th>city</th>\n",
       "      <th>time</th>\n",
       "      <th>day</th>\n",
       "    </tr>\n",
       "  </thead>\n",
       "  <tbody>\n",
       "    <tr>\n",
       "      <th>0</th>\n",
       "      <td>FFB692EC</td>\n",
       "      <td>Kamigata To Boots</td>\n",
       "      <td>The Mass Missile</td>\n",
       "      <td>rock</td>\n",
       "      <td>Saint-Petersburg</td>\n",
       "      <td>20:28:33</td>\n",
       "      <td>Wednesday</td>\n",
       "    </tr>\n",
       "    <tr>\n",
       "      <th>1</th>\n",
       "      <td>55204538</td>\n",
       "      <td>Delayed Because of Accident</td>\n",
       "      <td>Andreas Rönnberg</td>\n",
       "      <td>rock</td>\n",
       "      <td>Moscow</td>\n",
       "      <td>14:07:09</td>\n",
       "      <td>Friday</td>\n",
       "    </tr>\n",
       "    <tr>\n",
       "      <th>2</th>\n",
       "      <td>20EC38</td>\n",
       "      <td>Funiculì funiculà</td>\n",
       "      <td>Mario Lanza</td>\n",
       "      <td>pop</td>\n",
       "      <td>Saint-Petersburg</td>\n",
       "      <td>20:58:07</td>\n",
       "      <td>Wednesday</td>\n",
       "    </tr>\n",
       "    <tr>\n",
       "      <th>3</th>\n",
       "      <td>A3DD03C9</td>\n",
       "      <td>Dragons in the Sunset</td>\n",
       "      <td>Fire + Ice</td>\n",
       "      <td>folk</td>\n",
       "      <td>Saint-Petersburg</td>\n",
       "      <td>08:37:09</td>\n",
       "      <td>Monday</td>\n",
       "    </tr>\n",
       "    <tr>\n",
       "      <th>4</th>\n",
       "      <td>E2DC1FAE</td>\n",
       "      <td>Soul People</td>\n",
       "      <td>Space Echo</td>\n",
       "      <td>dance</td>\n",
       "      <td>Moscow</td>\n",
       "      <td>08:34:34</td>\n",
       "      <td>Monday</td>\n",
       "    </tr>\n",
       "  </tbody>\n",
       "</table>\n",
       "</div>"
      ],
      "text/plain": [
       "    user_id                        track            artist  genre  \\\n",
       "0  FFB692EC            Kamigata To Boots  The Mass Missile   rock   \n",
       "1  55204538  Delayed Because of Accident  Andreas Rönnberg   rock   \n",
       "2    20EC38            Funiculì funiculà       Mario Lanza    pop   \n",
       "3  A3DD03C9        Dragons in the Sunset        Fire + Ice   folk   \n",
       "4  E2DC1FAE                  Soul People        Space Echo  dance   \n",
       "\n",
       "               city      time        day  \n",
       "0  Saint-Petersburg  20:28:33  Wednesday  \n",
       "1            Moscow  14:07:09     Friday  \n",
       "2  Saint-Petersburg  20:58:07  Wednesday  \n",
       "3  Saint-Petersburg  08:37:09     Monday  \n",
       "4            Moscow  08:34:34     Monday  "
      ]
     },
     "execution_count": 45,
     "metadata": {},
     "output_type": "execute_result"
    }
   ],
   "source": [
    "df = df.drop_duplicates().reset_index(drop=True) # удаление явных дубликатов (с удалением старых индексов и формированием новых)\n",
    "df.head()"
   ]
  },
  {
   "cell_type": "markdown",
   "metadata": {
    "id": "Im2YwBEG_Zct"
   },
   "source": [
    "Ещё раз посчитайте явные дубликаты в таблице — убедитесь, что полностью от них избавились:"
   ]
  },
  {
   "cell_type": "code",
   "execution_count": 73,
   "metadata": {
    "id": "-8PuNWQ0_Zct"
   },
   "outputs": [
    {
     "data": {
      "text/plain": [
       "0"
      ]
     },
     "execution_count": 73,
     "metadata": {},
     "output_type": "execute_result"
    }
   ],
   "source": [
    "df.duplicated().sum()# проверка на отсутствие дубликатов"
   ]
  },
  {
   "cell_type": "markdown",
   "metadata": {
    "id": "QlFBsxAr_Zct"
   },
   "source": [
    "Теперь избавьтесь от неявных дубликатов в колонке `genre`. Например, название одного и того же жанра может быть записано немного по-разному. Такие ошибки тоже повлияют на результат исследования."
   ]
  },
  {
   "cell_type": "markdown",
   "metadata": {
    "id": "eSjWwsOh_Zct"
   },
   "source": [
    "Выведите на экран список уникальных названий жанров, отсортированный в алфавитном порядке. Для этого:\n",
    "* извлеките нужный столбец датафрейма, \n",
    "* примените к нему метод сортировки,\n",
    "* для отсортированного столбца вызовите метод, который вернёт уникальные значения из столбца."
   ]
  },
  {
   "cell_type": "code",
   "execution_count": 47,
   "metadata": {
    "id": "JIUcqzZN_Zct"
   },
   "outputs": [
    {
     "data": {
      "text/plain": [
       "array(['acid', 'acoustic', 'action', 'adult', 'africa', 'afrikaans',\n",
       "       'alternative', 'alternativepunk', 'ambient', 'americana',\n",
       "       'animated', 'anime', 'arabesk', 'arabic', 'arena',\n",
       "       'argentinetango', 'art', 'audiobook', 'author', 'avantgarde',\n",
       "       'axé', 'baile', 'balkan', 'beats', 'bigroom', 'black', 'bluegrass',\n",
       "       'blues', 'bollywood', 'bossa', 'brazilian', 'breakbeat', 'breaks',\n",
       "       'broadway', 'cantautori', 'cantopop', 'canzone', 'caribbean',\n",
       "       'caucasian', 'celtic', 'chamber', 'chanson', 'children', 'chill',\n",
       "       'chinese', 'choral', 'christian', 'christmas', 'classical',\n",
       "       'classicmetal', 'club', 'colombian', 'comedy', 'conjazz',\n",
       "       'contemporary', 'country', 'cuban', 'dance', 'dancehall',\n",
       "       'dancepop', 'dark', 'death', 'deep', 'deutschrock', 'deutschspr',\n",
       "       'dirty', 'disco', 'dnb', 'documentary', 'downbeat', 'downtempo',\n",
       "       'drum', 'dub', 'dubstep', 'eastern', 'easy', 'electronic',\n",
       "       'electropop', 'emo', 'entehno', 'epicmetal', 'estrada', 'ethnic',\n",
       "       'eurofolk', 'european', 'experimental', 'extrememetal', 'fado',\n",
       "       'fairytail', 'film', 'fitness', 'flamenco', 'folk', 'folklore',\n",
       "       'folkmetal', 'folkrock', 'folktronica', 'forró', 'frankreich',\n",
       "       'französisch', 'french', 'funk', 'future', 'gangsta', 'garage',\n",
       "       'german', 'ghazal', 'gitarre', 'glitch', 'gospel', 'gothic',\n",
       "       'grime', 'grunge', 'gypsy', 'handsup', \"hard'n'heavy\", 'hardcore',\n",
       "       'hardstyle', 'hardtechno', 'hip', 'hiphop', 'historisch',\n",
       "       'holiday', 'horror', 'house', 'hymn', 'idm', 'independent',\n",
       "       'indian', 'indie', 'indipop', 'industrial', 'inspirational',\n",
       "       'instrumental', 'international', 'irish', 'jam', 'japanese',\n",
       "       'jazz', 'jewish', 'jpop', 'jungle', 'k-pop', 'karadeniz',\n",
       "       'karaoke', 'kayokyoku', 'korean', 'laiko', 'latin', 'latino',\n",
       "       'leftfield', 'local', 'lounge', 'loungeelectronic', 'lovers',\n",
       "       'malaysian', 'mandopop', 'marschmusik', 'meditative',\n",
       "       'mediterranean', 'melodic', 'metal', 'metalcore', 'mexican',\n",
       "       'middle', 'minimal', 'miscellaneous', 'modern', 'mood', 'mpb',\n",
       "       'muslim', 'native', 'neoklassik', 'neue', 'new', 'newage',\n",
       "       'newwave', 'nu', 'nujazz', 'numetal', 'oceania', 'old', 'opera',\n",
       "       'orchestral', 'other', 'piano', 'podcasts', 'pop', 'popdance',\n",
       "       'popelectronic', 'popeurodance', 'poprussian', 'post',\n",
       "       'posthardcore', 'postrock', 'power', 'progmetal', 'progressive',\n",
       "       'psychedelic', 'punjabi', 'punk', 'quebecois', 'ragga', 'ram',\n",
       "       'rancheras', 'rap', 'rave', 'reggae', 'reggaeton', 'regional',\n",
       "       'relax', 'religious', 'retro', 'rhythm', 'rnb', 'rnr', 'rock',\n",
       "       'rockabilly', 'rockalternative', 'rockindie', 'rockother',\n",
       "       'romance', 'roots', 'ruspop', 'rusrap', 'rusrock', 'russian',\n",
       "       'salsa', 'samba', 'scenic', 'schlager', 'self', 'sertanejo',\n",
       "       'shanson', 'shoegazing', 'showtunes', 'singer', 'ska', 'skarock',\n",
       "       'slow', 'smooth', 'soft', 'soul', 'soulful', 'sound', 'soundtrack',\n",
       "       'southern', 'specialty', 'speech', 'spiritual', 'sport',\n",
       "       'stonerrock', 'surf', 'swing', 'synthpop', 'synthrock',\n",
       "       'sängerportrait', 'tango', 'tanzorchester', 'taraftar', 'tatar',\n",
       "       'tech', 'techno', 'teen', 'thrash', 'top', 'traditional',\n",
       "       'tradjazz', 'trance', 'tribal', 'trip', 'triphop', 'tropical',\n",
       "       'türk', 'türkçe', 'ukrrock', 'unknown', 'urban', 'uzbek',\n",
       "       'variété', 'vi', 'videogame', 'vocal', 'western', 'world',\n",
       "       'worldbeat', 'ïîï', 'электроника'], dtype=object)"
      ]
     },
     "execution_count": 47,
     "metadata": {},
     "output_type": "execute_result"
    }
   ],
   "source": [
    "genre_series = df['genre']\n",
    "genre_series = genre_series.sort_values()\n",
    "genre_series.unique() # Просмотр уникальных названий жанров"
   ]
  },
  {
   "cell_type": "markdown",
   "metadata": {
    "id": "qej-Qmuo_Zct"
   },
   "source": [
    "Просмотрите список и найдите неявные дубликаты названия `hiphop`. Это могут быть названия с ошибками или альтернативные названия того же жанра.\n",
    "\n",
    "Вы увидите следующие неявные дубликаты:\n",
    "* *hip*,\n",
    "* *hop*,\n",
    "* *hip-hop*.\n",
    "\n",
    "Чтобы очистить от них таблицу, напишите функцию `replace_wrong_genres()` с двумя параметрами: \n",
    "* `wrong_genres` — список дубликатов,\n",
    "* `correct_genre` — строка с правильным значением.\n",
    "\n",
    "Функция должна исправить колонку `genre` в таблице `df`: заменить каждое значение из списка `wrong_genres` на значение из `correct_genre`."
   ]
  },
  {
   "cell_type": "code",
   "execution_count": 48,
   "metadata": {
    "id": "ErNDkmns_Zct"
   },
   "outputs": [],
   "source": [
    "def replace_wrong_genres(wrong_genres, correct_genre): \n",
    "    for wrong_genre in wrong_genres:\n",
    "        df['genre'] = df['genre'].replace(wrong_genres, correct_genre)# Функция для замены неявных дубликатов"
   ]
  },
  {
   "cell_type": "markdown",
   "metadata": {
    "id": "aDoBJxbA_Zct"
   },
   "source": [
    "Вызовите `replace_wrong_genres()` и передайте ей такие аргументы, чтобы она устранила неявные дубликаты: вместо `hip`, `hop` и `hip-hop` в таблице должно быть значение `hiphop`:"
   ]
  },
  {
   "cell_type": "code",
   "execution_count": 49,
   "metadata": {
    "id": "YN5i2hpmSo09"
   },
   "outputs": [],
   "source": [
    "replace_wrong_genres(['hip', 'hop', 'hip-hop'], 'hiphop')# Устранение неявных дубликатов"
   ]
  },
  {
   "cell_type": "markdown",
   "metadata": {
    "id": "zQKF16_RG15m"
   },
   "source": [
    "Проверьте, что заменили неправильные названия:\n",
    "\n",
    "*   hip\n",
    "*   hop\n",
    "*   hip-hop\n",
    "\n",
    "Выведите отсортированный список уникальных значений столбца `genre`:"
   ]
  },
  {
   "cell_type": "code",
   "execution_count": 50,
   "metadata": {
    "id": "wvixALnFG15m"
   },
   "outputs": [
    {
     "name": "stdout",
     "output_type": "stream",
     "text": [
      "['acid' 'acoustic' 'action' 'adult' 'africa' 'afrikaans' 'alternative'\n",
      " 'alternativepunk' 'ambient' 'americana' 'animated' 'anime' 'arabesk'\n",
      " 'arabic' 'arena' 'argentinetango' 'art' 'audiobook' 'author' 'avantgarde'\n",
      " 'axé' 'baile' 'balkan' 'beats' 'bigroom' 'black' 'bluegrass' 'blues'\n",
      " 'bollywood' 'bossa' 'brazilian' 'breakbeat' 'breaks' 'broadway'\n",
      " 'cantautori' 'cantopop' 'canzone' 'caribbean' 'caucasian' 'celtic'\n",
      " 'chamber' 'chanson' 'children' 'chill' 'chinese' 'choral' 'christian'\n",
      " 'christmas' 'classical' 'classicmetal' 'club' 'colombian' 'comedy'\n",
      " 'conjazz' 'contemporary' 'country' 'cuban' 'dance' 'dancehall' 'dancepop'\n",
      " 'dark' 'death' 'deep' 'deutschrock' 'deutschspr' 'dirty' 'disco' 'dnb'\n",
      " 'documentary' 'downbeat' 'downtempo' 'drum' 'dub' 'dubstep' 'eastern'\n",
      " 'easy' 'electronic' 'electropop' 'emo' 'entehno' 'epicmetal' 'estrada'\n",
      " 'ethnic' 'eurofolk' 'european' 'experimental' 'extrememetal' 'fado'\n",
      " 'fairytail' 'film' 'fitness' 'flamenco' 'folk' 'folklore' 'folkmetal'\n",
      " 'folkrock' 'folktronica' 'forró' 'frankreich' 'französisch' 'french'\n",
      " 'funk' 'future' 'gangsta' 'garage' 'german' 'ghazal' 'gitarre' 'glitch'\n",
      " 'gospel' 'gothic' 'grime' 'grunge' 'gypsy' 'handsup' \"hard'n'heavy\"\n",
      " 'hardcore' 'hardstyle' 'hardtechno' 'hiphop' 'historisch' 'holiday'\n",
      " 'horror' 'house' 'hymn' 'idm' 'independent' 'indian' 'indie' 'indipop'\n",
      " 'industrial' 'inspirational' 'instrumental' 'international' 'irish' 'jam'\n",
      " 'japanese' 'jazz' 'jewish' 'jpop' 'jungle' 'k-pop' 'karadeniz' 'karaoke'\n",
      " 'kayokyoku' 'korean' 'laiko' 'latin' 'latino' 'leftfield' 'local'\n",
      " 'lounge' 'loungeelectronic' 'lovers' 'malaysian' 'mandopop' 'marschmusik'\n",
      " 'meditative' 'mediterranean' 'melodic' 'metal' 'metalcore' 'mexican'\n",
      " 'middle' 'minimal' 'miscellaneous' 'modern' 'mood' 'mpb' 'muslim'\n",
      " 'native' 'neoklassik' 'neue' 'new' 'newage' 'newwave' 'nu' 'nujazz'\n",
      " 'numetal' 'oceania' 'old' 'opera' 'orchestral' 'other' 'piano' 'podcasts'\n",
      " 'pop' 'popdance' 'popelectronic' 'popeurodance' 'poprussian' 'post'\n",
      " 'posthardcore' 'postrock' 'power' 'progmetal' 'progressive' 'psychedelic'\n",
      " 'punjabi' 'punk' 'quebecois' 'ragga' 'ram' 'rancheras' 'rap' 'rave'\n",
      " 'reggae' 'reggaeton' 'regional' 'relax' 'religious' 'retro' 'rhythm'\n",
      " 'rnb' 'rnr' 'rock' 'rockabilly' 'rockalternative' 'rockindie' 'rockother'\n",
      " 'romance' 'roots' 'ruspop' 'rusrap' 'rusrock' 'russian' 'salsa' 'samba'\n",
      " 'scenic' 'schlager' 'self' 'sertanejo' 'shanson' 'shoegazing' 'showtunes'\n",
      " 'singer' 'ska' 'skarock' 'slow' 'smooth' 'soft' 'soul' 'soulful' 'sound'\n",
      " 'soundtrack' 'southern' 'specialty' 'speech' 'spiritual' 'sport'\n",
      " 'stonerrock' 'surf' 'swing' 'synthpop' 'synthrock' 'sängerportrait'\n",
      " 'tango' 'tanzorchester' 'taraftar' 'tatar' 'tech' 'techno' 'teen'\n",
      " 'thrash' 'top' 'traditional' 'tradjazz' 'trance' 'tribal' 'trip'\n",
      " 'triphop' 'tropical' 'türk' 'türkçe' 'ukrrock' 'unknown' 'urban' 'uzbek'\n",
      " 'variété' 'vi' 'videogame' 'vocal' 'western' 'world' 'worldbeat' 'ïîï'\n",
      " 'электроника']\n"
     ]
    }
   ],
   "source": [
    "genre_series = df['genre']\n",
    "genre_series = genre_series.sort_values()\n",
    "genre_unique = genre_series.unique()\n",
    "print(genre_unique) # Проверка на неявные дубликаты"
   ]
  },
  {
   "cell_type": "markdown",
   "metadata": {
    "id": "jz6a9-7HQUDd"
   },
   "source": [
    "**Выводы**\n",
    "\n",
    "Предобработка обнаружила три проблемы в данных:\n",
    "\n",
    "- нарушения в стиле заголовков,\n",
    "- пропущенные значения,\n",
    "- дубликаты — явные и неявные.\n",
    "\n",
    "Вы исправили заголовки, чтобы упростить работу с таблицей. Без дубликатов исследование станет более точным.\n",
    "\n",
    "Пропущенные значения вы заменили на `'unknown'`. Ещё предстоит увидеть, не повредят ли исследованию пропуски в колонке `genre`.\n",
    "\n",
    "Теперь можно перейти к проверке гипотез. "
   ]
  },
  {
   "cell_type": "markdown",
   "metadata": {
    "id": "WttZHXH0SqKk"
   },
   "source": [
    "## Проверка гипотез"
   ]
  },
  {
   "cell_type": "markdown",
   "metadata": {
    "id": "Im936VVi_Zcu"
   },
   "source": [
    "### Сравнение поведения пользователей двух столиц"
   ]
  },
  {
   "cell_type": "markdown",
   "metadata": {
    "id": "nwt_MuaL_Zcu"
   },
   "source": [
    "Первая гипотеза утверждает, что пользователи по-разному слушают музыку в Москве и Санкт-Петербурге. Проверьте это предположение по данным о трёх днях недели — понедельнике, среде и пятнице. Для этого:\n",
    "\n",
    "* Разделите пользователей Москвы и Санкт-Петербурга\n",
    "* Сравните, сколько треков послушала каждая группа пользователей в понедельник, среду и пятницу.\n"
   ]
  },
  {
   "cell_type": "markdown",
   "metadata": {
    "id": "8Dw_YMmT_Zcu"
   },
   "source": [
    "Для тренировки сначала выполните каждый из расчётов по отдельности. \n",
    "\n",
    "Оцените активность пользователей в каждом городе. Сгруппируйте данные по городу и посчитайте прослушивания в каждой группе.\n",
    "\n"
   ]
  },
  {
   "cell_type": "code",
   "execution_count": 51,
   "metadata": {
    "id": "0_Qs96oh_Zcu"
   },
   "outputs": [
    {
     "data": {
      "text/plain": [
       "city\n",
       "Moscow              42741\n",
       "Saint-Petersburg    18512\n",
       "Name: city, dtype: int64"
      ]
     },
     "execution_count": 51,
     "metadata": {},
     "output_type": "execute_result"
    }
   ],
   "source": [
    "df.groupby('city')['city'].count() # Подсчёт прослушиваний в каждом городе"
   ]
  },
  {
   "cell_type": "markdown",
   "metadata": {
    "id": "dzli3w8o_Zcu"
   },
   "source": [
    "В Москве прослушиваний больше, чем в Петербурге. Из этого не следует, что московские пользователи чаще слушают музыку. Просто самих пользователей в Москве больше.\n",
    "\n",
    "Теперь сгруппируйте данные по дню недели и подсчитайте прослушивания в понедельник, среду и пятницу. Учтите, что в данных есть информация только о прослушиваниях только за эти дни.\n"
   ]
  },
  {
   "cell_type": "code",
   "execution_count": 52,
   "metadata": {
    "id": "uZMKjiJz_Zcu"
   },
   "outputs": [
    {
     "data": {
      "text/plain": [
       "day\n",
       "Friday       21840\n",
       "Monday       21354\n",
       "Wednesday    18059\n",
       "Name: day, dtype: int64"
      ]
     },
     "execution_count": 52,
     "metadata": {},
     "output_type": "execute_result"
    }
   ],
   "source": [
    "df.groupby('day')['day'].count()# Подсчёт прослушиваний в каждый из трёх дней"
   ]
  },
  {
   "cell_type": "markdown",
   "metadata": {
    "id": "cC2tNrlL_Zcu"
   },
   "source": [
    "В среднем пользователи из двух городов менее активны по средам. Но картина может измениться, если рассмотреть каждый город в отдельности."
   ]
  },
  {
   "cell_type": "markdown",
   "metadata": {
    "id": "POzs8bGa_Zcu"
   },
   "source": [
    "Вы видели, как работает группировка по городу и по дням недели. Теперь напишите функцию, которая объединит два эти расчёта.\n",
    "\n",
    "Создайте функцию `number_tracks()`, которая посчитает прослушивания для заданного дня и города. Ей понадобятся два параметра:\n",
    "* день недели,\n",
    "* название города.\n",
    "\n",
    "В функции сохраните в переменную строки исходной таблицы, у которых значение:\n",
    "  * в колонке `day` равно параметру `day`,\n",
    "  * в колонке `city` равно параметру `city`.\n",
    "\n",
    "Для этого примените последовательную фильтрацию с логической индексацией.\n",
    "\n",
    "Затем посчитайте значения в столбце `user_id` получившейся таблицы. Результат сохраните в новую переменную. Верните эту переменную из функции."
   ]
  },
  {
   "cell_type": "code",
   "execution_count": 74,
   "metadata": {
    "id": "Nz3GdQB1_Zcu"
   },
   "outputs": [],
   "source": [
    "#_____________________________________________________________\n",
    "                      #Описание функции:\n",
    "# Функция для подсчёта прослушиваний для конкретного города и дня.\n",
    "# С помощью последовательной фильтрации с логической индексацией она \n",
    "# сначала получит из исходной таблицы строки с нужным днём,\n",
    "# затем из результата отфильтрует строки с нужным городом,\n",
    "# методом count() посчитает количество значений в колонке user_id. \n",
    "# Это количество функция вернёт в качестве результата\n",
    "\n",
    "def number_tracks(day,city):# <создание функции number_tracks()>\n",
    "    track_list = df[(df['day'] == day) & (df['city']==city)]# Объявляется функция с двумя параметрами: day, city.\n",
    "    # В переменной track_list сохраняются те строки таблицы df, для которых \n",
    "# значение в столбце 'day' равно параметру day и одновременно значение\n",
    "# в столбце 'city' равно параметру city (используйте последовательную фильтрацию\n",
    "# с помощью логической индексации).\n",
    "    track_list_count = track_list['user_id'].count()\n",
    "# В переменной track_list_count сохраняется число значений столбца 'user_id',\n",
    "# рассчитанное методом count() для таблицы track_list.\n",
    "# Функция возвращает число - значение track_list_count.\n",
    "    return track_list_count\n"
   ]
  },
  {
   "cell_type": "markdown",
   "metadata": {
    "id": "ytf7xFrFJQ2r"
   },
   "source": [
    "Вызовите `number_tracks()` шесть раз, меняя значение параметров — так, чтобы получить данные для каждого города в каждый из трёх дней."
   ]
  },
  {
   "cell_type": "code",
   "execution_count": 54,
   "metadata": {
    "id": "rJcRATNQ_Zcu"
   },
   "outputs": [
    {
     "data": {
      "text/plain": [
       "15740"
      ]
     },
     "execution_count": 54,
     "metadata": {},
     "output_type": "execute_result"
    }
   ],
   "source": [
    "# количество прослушиваний в Москве по понедельникам\n",
    "number_tracks('Monday','Moscow')"
   ]
  },
  {
   "cell_type": "code",
   "execution_count": 55,
   "metadata": {
    "id": "hq_ncZ5T_Zcu"
   },
   "outputs": [
    {
     "data": {
      "text/plain": [
       "5614"
      ]
     },
     "execution_count": 55,
     "metadata": {},
     "output_type": "execute_result"
    }
   ],
   "source": [
    "# количество прослушиваний в Санкт-Петербурге по понедельникам\n",
    "number_tracks('Monday','Saint-Petersburg')"
   ]
  },
  {
   "cell_type": "code",
   "execution_count": 56,
   "metadata": {
    "id": "_NTy2VPU_Zcu"
   },
   "outputs": [
    {
     "data": {
      "text/plain": [
       "11056"
      ]
     },
     "execution_count": 56,
     "metadata": {},
     "output_type": "execute_result"
    }
   ],
   "source": [
    "number_tracks('Wednesday','Moscow')# количество прослушиваний в Москве по средам"
   ]
  },
  {
   "cell_type": "code",
   "execution_count": 57,
   "metadata": {
    "id": "j2y3TAwo_Zcu"
   },
   "outputs": [
    {
     "data": {
      "text/plain": [
       "7003"
      ]
     },
     "execution_count": 57,
     "metadata": {},
     "output_type": "execute_result"
    }
   ],
   "source": [
    "number_tracks('Wednesday','Saint-Petersburg')# количество прослушиваний в Санкт-Петербурге по средам"
   ]
  },
  {
   "cell_type": "code",
   "execution_count": 58,
   "metadata": {
    "id": "vYDw5u_K_Zcu"
   },
   "outputs": [
    {
     "data": {
      "text/plain": [
       "15945"
      ]
     },
     "execution_count": 58,
     "metadata": {},
     "output_type": "execute_result"
    }
   ],
   "source": [
    "number_tracks('Friday','Moscow')# количество прослушиваний в Москве по пятницам"
   ]
  },
  {
   "cell_type": "code",
   "execution_count": 59,
   "metadata": {
    "id": "8_yzFtW3_Zcu"
   },
   "outputs": [
    {
     "data": {
      "text/plain": [
       "5895"
      ]
     },
     "execution_count": 59,
     "metadata": {},
     "output_type": "execute_result"
    }
   ],
   "source": [
    "number_tracks('Friday','Saint-Petersburg')# количество прослушиваний в Санкт-Петербурге по пятницам"
   ]
  },
  {
   "cell_type": "markdown",
   "metadata": {
    "id": "7QXffbO-_Zcu"
   },
   "source": [
    "Создайте c помощью конструктора `pd.DataFrame` таблицу, где\n",
    "* названия колонок — `['city', 'monday', 'wednesday', 'friday']`;\n",
    "* данные — результаты, которые вы получили с помощью `number_tracks`."
   ]
  },
  {
   "cell_type": "code",
   "execution_count": 60,
   "metadata": {
    "id": "APAcLpOr_Zcu"
   },
   "outputs": [
    {
     "data": {
      "text/html": [
       "<div>\n",
       "<style scoped>\n",
       "    .dataframe tbody tr th:only-of-type {\n",
       "        vertical-align: middle;\n",
       "    }\n",
       "\n",
       "    .dataframe tbody tr th {\n",
       "        vertical-align: top;\n",
       "    }\n",
       "\n",
       "    .dataframe thead th {\n",
       "        text-align: right;\n",
       "    }\n",
       "</style>\n",
       "<table border=\"1\" class=\"dataframe\">\n",
       "  <thead>\n",
       "    <tr style=\"text-align: right;\">\n",
       "      <th></th>\n",
       "      <th>city</th>\n",
       "      <th>monday</th>\n",
       "      <th>wednesday</th>\n",
       "      <th>friday</th>\n",
       "    </tr>\n",
       "  </thead>\n",
       "  <tbody>\n",
       "    <tr>\n",
       "      <th>0</th>\n",
       "      <td>Moscow</td>\n",
       "      <td>15740</td>\n",
       "      <td>11056</td>\n",
       "      <td>15945</td>\n",
       "    </tr>\n",
       "    <tr>\n",
       "      <th>1</th>\n",
       "      <td>Saint-Petersburg</td>\n",
       "      <td>5614</td>\n",
       "      <td>7003</td>\n",
       "      <td>5895</td>\n",
       "    </tr>\n",
       "  </tbody>\n",
       "</table>\n",
       "</div>"
      ],
      "text/plain": [
       "               city  monday  wednesday  friday\n",
       "0            Moscow   15740      11056   15945\n",
       "1  Saint-Petersburg    5614       7003    5895"
      ]
     },
     "execution_count": 60,
     "metadata": {},
     "output_type": "execute_result"
    }
   ],
   "source": [
    "# Таблица с результатами:\n",
    "data = [['Moscow', 15740, 11056, 15945],\n",
    "       ['Saint-Petersburg', 5614, 7003, 5895]]\n",
    "columns=['city', 'monday', 'wednesday', 'friday']\n",
    "table = pd.DataFrame(data = data, columns = columns)\n",
    "table"
   ]
  },
  {
   "cell_type": "markdown",
   "metadata": {
    "id": "-EgPIHYu_Zcu"
   },
   "source": [
    "**Выводы**\n",
    "\n",
    "Данные показывают разницу поведения пользователей:\n",
    "\n",
    "- В Москве пик прослушиваний приходится на понедельник и пятницу, а в среду заметен спад.\n",
    "- В Петербурге, наоборот, больше слушают музыку по средам. Активность в понедельник и пятницу здесь почти в равной мере уступает среде.\n",
    "\n",
    "Значит, данные говорят в пользу первой гипотезы."
   ]
  },
  {
   "cell_type": "markdown",
   "metadata": {
    "id": "atZAxtq4_Zcu"
   },
   "source": [
    "### Музыка в начале и в конце недели"
   ]
  },
  {
   "cell_type": "markdown",
   "metadata": {
    "id": "eXrQqXFH_Zcu"
   },
   "source": [
    "Согласно второй гипотезе, утром в понедельник в Москве преобладают одни жанры, а в Петербурге — другие. Так же и вечером пятницы преобладают разные жанры — в зависимости от города."
   ]
  },
  {
   "cell_type": "markdown",
   "metadata": {
    "id": "S8UcW6Hw_Zcu"
   },
   "source": [
    "Сохраните таблицы с данными в две переменные:\n",
    "* по Москве — в `moscow_general`;\n",
    "* по Санкт-Петербургу — в `spb_general`."
   ]
  },
  {
   "cell_type": "code",
   "execution_count": 61,
   "metadata": {
    "id": "qeaFfM_P_Zcu"
   },
   "outputs": [],
   "source": [
    "# получение таблицы moscow_general из тех строк таблицы df, \n",
    "# для которых значение в столбце 'city' равно 'Moscow'\n",
    "moscow_general=df[df['city']=='Moscow']"
   ]
  },
  {
   "cell_type": "code",
   "execution_count": 62,
   "metadata": {
    "id": "ORaVRKto_Zcu"
   },
   "outputs": [],
   "source": [
    "# получение таблицы spb_general из тех строк таблицы df,\n",
    "# для которых значение в столбце 'city' равно 'Saint-Petersburg'\n",
    "spb_general=df[df['city']=='Saint-Petersburg']"
   ]
  },
  {
   "cell_type": "markdown",
   "metadata": {
    "id": "MEJV-CX2_Zcu"
   },
   "source": [
    "Создайте функцию `genre_weekday()` с четырьмя параметрами:\n",
    "* таблица (датафрейм) с данными,\n",
    "* день недели,\n",
    "* начальная временная метка в формате 'hh:mm', \n",
    "* последняя временная метка в формате 'hh:mm'.\n",
    "\n",
    "Функция должна вернуть информацию о топ-10 жанров тех треков, которые прослушивали в указанный день, в промежутке между двумя отметками времени."
   ]
  },
  {
   "cell_type": "code",
   "execution_count": 63,
   "metadata": {
    "id": "laJT9BYl_Zcu"
   },
   "outputs": [],
   "source": [
    "# Объявление функции genre_weekday() с параметрами table, day, time1, time2,\n",
    "# которая возвращает информацию о самых популярных жанрах в указанный день в\n",
    "# заданное время:\n",
    "# 1) в переменную genre_df сохраняются те строки переданного датафрейма table, для\n",
    "#    которых одновременно:\n",
    "#    - значение в столбце day равно значению аргумента day\n",
    "#    - значение в столбце time больше значения аргумента time1\n",
    "#    - значение в столбце time меньше значения аргумента time2\n",
    "#    Используйте последовательную фильтрацию с помощью логической индексации.\n",
    "# 2) сгруппировать датафрейм genre_df по столбцу genre, взять один из его\n",
    "#    столбцов и посчитать методом count() количество записей для каждого из\n",
    "#    присутствующих жанров, получившийся Series записать в переменную\n",
    "#    genre_df_count\n",
    "# 3) отсортировать genre_df_count по убыванию встречаемости и сохранить\n",
    "#    в переменную genre_df_sorted\n",
    "# 4) вернуть Series из 10 первых значений genre_df_sorted, это будут топ-10\n",
    "#    популярных жанров (в указанный день, в заданное время)\n",
    "\n",
    "def genre_weekday(table,day,time1,time2):\n",
    "    genre_df=table[(table['day']==day) & (table['time']>time1) & (table['time']<time2)]\n",
    "    genre_df_count=genre_df.groupby('genre')['day'].count()\n",
    "    genre_df_sorted=genre_df_count.sort_values(ascending=False).head(10)\n",
    "    return genre_df_sorted\n",
    "\n",
    "\n",
    "\n",
    "\n",
    "\n",
    "\n"
   ]
  },
  {
   "cell_type": "markdown",
   "metadata": {
    "id": "la2s2_PF_Zcu"
   },
   "source": [
    "Cравните результаты функции `genre_weekday()` для Москвы и Санкт-Петербурга в понедельник утром (с 7:00 до 11:00) и в пятницу вечером (с 17:00 до 23:00):"
   ]
  },
  {
   "cell_type": "code",
   "execution_count": 64,
   "metadata": {
    "id": "yz7itPUQ_Zcu"
   },
   "outputs": [
    {
     "data": {
      "text/plain": [
       "genre\n",
       "pop            781\n",
       "dance          549\n",
       "electronic     480\n",
       "rock           474\n",
       "hiphop         286\n",
       "ruspop         186\n",
       "world          181\n",
       "rusrap         175\n",
       "alternative    164\n",
       "unknown        161\n",
       "Name: day, dtype: int64"
      ]
     },
     "execution_count": 64,
     "metadata": {},
     "output_type": "execute_result"
    }
   ],
   "source": [
    "\n",
    "# вызов функции для утра понедельника в Москве (вместо df — таблица moscow_general)\n",
    "# объекты, хранящие время, являются строками и сравниваются как строки\n",
    "# пример вызова: genre_weekday(moscow_general, 'Monday', '07:00', '11:00')\n",
    "genre_weekday(moscow_general, 'Monday','07:00:00','11:00:00')"
   ]
  },
  {
   "cell_type": "code",
   "execution_count": 65,
   "metadata": {
    "id": "kwUcHPdy_Zcu"
   },
   "outputs": [
    {
     "data": {
      "text/plain": [
       "genre\n",
       "pop            218\n",
       "dance          182\n",
       "rock           162\n",
       "electronic     147\n",
       "hiphop          80\n",
       "ruspop          64\n",
       "alternative     58\n",
       "rusrap          55\n",
       "jazz            44\n",
       "classical       40\n",
       "Name: day, dtype: int64"
      ]
     },
     "execution_count": 65,
     "metadata": {},
     "output_type": "execute_result"
    }
   ],
   "source": [
    "genre_weekday(spb_general, 'Monday','07:00:00','11:00:00')\n",
    "\n",
    "# вызов функции для утра понедельника в Петербурге (вместо df — таблица spb_general)"
   ]
  },
  {
   "cell_type": "code",
   "execution_count": 66,
   "metadata": {
    "id": "EzXVRE1o_Zcu"
   },
   "outputs": [
    {
     "data": {
      "text/plain": [
       "genre\n",
       "pop            713\n",
       "rock           517\n",
       "dance          495\n",
       "electronic     482\n",
       "hiphop         273\n",
       "world          208\n",
       "ruspop         170\n",
       "alternative    163\n",
       "classical      163\n",
       "rusrap         142\n",
       "Name: day, dtype: int64"
      ]
     },
     "execution_count": 66,
     "metadata": {},
     "output_type": "execute_result"
    }
   ],
   "source": [
    "genre_weekday(moscow_general, 'Friday','17:00:00','23:00:00')\n",
    "\n",
    "# вызов функции для вечера пятницы в Москве"
   ]
  },
  {
   "cell_type": "code",
   "execution_count": 67,
   "metadata": {
    "id": "JZaEKu5v_Zcu"
   },
   "outputs": [
    {
     "data": {
      "text/plain": [
       "genre\n",
       "pop            256\n",
       "electronic     216\n",
       "rock           216\n",
       "dance          210\n",
       "hiphop          97\n",
       "alternative     63\n",
       "jazz            61\n",
       "classical       60\n",
       "rusrap          59\n",
       "world           54\n",
       "Name: day, dtype: int64"
      ]
     },
     "execution_count": 67,
     "metadata": {},
     "output_type": "execute_result"
    }
   ],
   "source": [
    "genre_weekday(spb_general, 'Friday','17:00:00','23:00:00')\n",
    "# вызов функции для вечера пятницы в Петербурге"
   ]
  },
  {
   "cell_type": "markdown",
   "metadata": {
    "id": "wrCe4MNX_Zcu"
   },
   "source": [
    "**Выводы**\n",
    "\n",
    "Если сравнить топ-10 жанров в понедельник утром, можно сделать такие выводы:\n",
    "\n",
    "1. В Москве и Петербурге слушают похожую музыку. Единственное отличие — в московский рейтинг вошёл жанр “world”, а в петербургский — джаз и классика.\n",
    "\n",
    "2. В Москве пропущенных значений оказалось так много, что значение `'unknown'` заняло десятое место среди самых популярных жанров. Значит, пропущенные значения занимают существенную долю в данных и угрожают достоверности исследования.\n",
    "\n",
    "Вечер пятницы не меняет эту картину. Некоторые жанры поднимаются немного выше, другие спускаются, но в целом топ-10 остаётся тем же самым.\n",
    "\n",
    "Таким образом, вторая гипотеза подтвердилась лишь частично:\n",
    "* Пользователи слушают похожую музыку в начале недели и в конце.\n",
    "* Разница между Москвой и Петербургом не слишком выражена. В Москве чаще слушают русскую популярную музыку, в Петербурге — джаз.\n",
    "\n",
    "Однако пропуски в данных ставят под сомнение этот результат. В Москве их так много, что рейтинг топ-10 мог бы выглядеть иначе, если бы не утерянные  данные о жанрах."
   ]
  },
  {
   "cell_type": "markdown",
   "metadata": {
    "id": "JolODAqr_Zcu"
   },
   "source": [
    "### Жанровые предпочтения в Москве и Петербурге\n",
    "\n",
    "Гипотеза: Петербург — столица рэпа, музыку этого жанра там слушают чаще, чем в Москве.  А Москва — город контрастов, в котором, тем не менее, преобладает поп-музыка."
   ]
  },
  {
   "cell_type": "markdown",
   "metadata": {
    "id": "DlegSvaT_Zcu"
   },
   "source": [
    "Сгруппируйте таблицу `moscow_general` по жанру и посчитайте прослушивания треков каждого жанра методом `count()`. Затем отсортируйте результат в порядке убывания и сохраните его в таблице `moscow_genres`."
   ]
  },
  {
   "cell_type": "code",
   "execution_count": 68,
   "metadata": {
    "id": "r19lIPke_Zcu"
   },
   "outputs": [],
   "source": [
    "# одной строкой: группировка таблицы moscow_general по столбцу 'genre', \n",
    "# подсчёт числа значений 'genre' в этой группировке методом count(), \n",
    "# сортировка получившегося Series в порядке убывания и сохранение в moscow_genres\n",
    "moscow_genres=moscow_general.groupby('genre')['genre'].count().sort_values(ascending = False)"
   ]
  },
  {
   "cell_type": "markdown",
   "metadata": {
    "id": "6kMuomxTiIr8"
   },
   "source": [
    "Выведите на экран первые десять строк `moscow_genres`:"
   ]
  },
  {
   "cell_type": "code",
   "execution_count": 69,
   "metadata": {
    "id": "WhCSooF8_Zcv"
   },
   "outputs": [
    {
     "data": {
      "text/plain": [
       "genre\n",
       "pop            5892\n",
       "dance          4435\n",
       "rock           3965\n",
       "electronic     3786\n",
       "hiphop         2096\n",
       "classical      1616\n",
       "world          1432\n",
       "alternative    1379\n",
       "ruspop         1372\n",
       "rusrap         1161\n",
       "Name: genre, dtype: int64"
      ]
     },
     "execution_count": 69,
     "metadata": {},
     "output_type": "execute_result"
    }
   ],
   "source": [
    "moscow_genres.head(10)\n",
    "# просмотр первых 10 строк moscow_genres"
   ]
  },
  {
   "cell_type": "markdown",
   "metadata": {
    "id": "cnPG2vnN_Zcv"
   },
   "source": [
    "Теперь повторите то же и для Петербурга.\n",
    "\n",
    "Сгруппируйте таблицу `spb_general` по жанру. Посчитайте прослушивания треков каждого жанра. Результат отсортируйте в порядке убывания и сохраните в таблице `spb_genres`:\n"
   ]
  },
  {
   "cell_type": "code",
   "execution_count": 70,
   "metadata": {
    "id": "gluLIpE7_Zcv"
   },
   "outputs": [],
   "source": [
    "# одной строкой: группировка таблицы spb_general по столбцу 'genre', \n",
    "# подсчёт числа значений 'genre' в этой группировке методом count(), \n",
    "# сортировка получившегося Series в порядке убывания и сохранение в spb_genres\n",
    "spb_genres=spb_general.groupby('genre')['genre'].count().sort_values(ascending = False)"
   ]
  },
  {
   "cell_type": "markdown",
   "metadata": {
    "id": "5Doha_ODgyQ8"
   },
   "source": [
    "Выведите на экран первые десять строк `spb_genres`:"
   ]
  },
  {
   "cell_type": "code",
   "execution_count": 71,
   "metadata": {
    "id": "uaGJHjVU_Zcv"
   },
   "outputs": [
    {
     "data": {
      "text/plain": [
       "genre\n",
       "pop            2431\n",
       "dance          1932\n",
       "rock           1879\n",
       "electronic     1736\n",
       "hiphop          960\n",
       "alternative     649\n",
       "classical       646\n",
       "rusrap          564\n",
       "ruspop          538\n",
       "world           515\n",
       "Name: genre, dtype: int64"
      ]
     },
     "execution_count": 71,
     "metadata": {},
     "output_type": "execute_result"
    }
   ],
   "source": [
    "# просмотр первых 10 строк spb_genres\n",
    "spb_genres.head(10)\n"
   ]
  },
  {
   "cell_type": "markdown",
   "metadata": {
    "id": "RY51YJYu_Zcv"
   },
   "source": [
    "**Выводы**"
   ]
  },
  {
   "cell_type": "markdown",
   "metadata": {
    "id": "nVhnJEm__Zcv"
   },
   "source": [
    "Гипотеза частично подтвердилась:\n",
    "* Поп-музыка — самый популярный жанр в Москве, как и предполагала гипотеза. Более того, в топ-10 жанров встречается близкий жанр — русская популярная музыка.\n",
    "* Вопреки ожиданиям, рэп одинаково популярен в Москве и Петербурге. \n"
   ]
  },
  {
   "cell_type": "markdown",
   "metadata": {
    "id": "ykKQ0N65_Zcv"
   },
   "source": [
    "## Итоги исследования"
   ]
  },
  {
   "cell_type": "markdown",
   "metadata": {
    "id": "tjUwbHb3_Zcv"
   },
   "source": [
    "Вы проверили три гипотезы и установили:\n",
    "\n",
    "1. День недели по-разному влияет на активность пользователей в Москве и Петербурге. \n",
    "\n",
    "Первая гипотеза полностью подтвердилась.\n",
    "\n",
    "2. Музыкальные предпочтения не сильно меняются в течение недели — будь то Москва или Петербург. Небольшие различия заметны в начале недели, по понедельникам:\n",
    "* в Москве слушают музыку жанра “world”,\n",
    "* в Петербурге — джаз и классику.\n",
    "\n",
    "Таким образом, вторая гипотеза подтвердилась лишь отчасти. Этот результат мог оказаться иным, если бы не пропуски в данных.\n",
    "\n",
    "3. Во вкусах пользователей Москвы и Петербурга больше общего чем различий. Вопреки ожиданиям, предпочтения жанров в Петербурге напоминают московские.\n",
    "\n",
    "Третья гипотеза не подтвердилась. Если различия в предпочтениях и существуют, на основной массе пользователей они незаметны.\n",
    "\n",
    "**На практике исследования содержат проверки статистических гипотез.**\n",
    "Из данных одного сервиса не всегда можно сделать вывод о всех жителях города.\n",
    "Проверки статистических гипотез покажут, насколько они достоверны, исходя из имеющихся данных. \n",
    "С методами проверок гипотез вы ещё познакомитесь в следующих темах."
   ]
  }
 ],
 "metadata": {
  "ExecuteTimeLog": [
   {
    "duration": 579,
    "start_time": "2022-03-11T19:00:16.375Z"
   },
   {
    "duration": 61,
    "start_time": "2022-03-11T19:00:20.237Z"
   },
   {
    "duration": 299,
    "start_time": "2022-03-11T21:02:32.622Z"
   },
   {
    "duration": 562,
    "start_time": "2022-03-13T13:05:12.720Z"
   },
   {
    "duration": 344,
    "start_time": "2022-03-13T13:05:18.165Z"
   },
   {
    "duration": 18,
    "start_time": "2022-03-13T13:05:21.519Z"
   },
   {
    "duration": 3,
    "start_time": "2022-03-13T13:05:29.330Z"
   },
   {
    "duration": 266,
    "start_time": "2022-03-13T15:25:16.250Z"
   },
   {
    "duration": 213,
    "start_time": "2022-03-13T15:25:29.243Z"
   },
   {
    "duration": 550,
    "start_time": "2022-03-13T15:25:33.686Z"
   },
   {
    "duration": 2,
    "start_time": "2022-03-13T15:25:36.662Z"
   },
   {
    "duration": 130,
    "start_time": "2022-03-13T15:25:38.985Z"
   },
   {
    "duration": 16,
    "start_time": "2022-03-13T15:25:40.698Z"
   },
   {
    "duration": 25,
    "start_time": "2022-03-13T15:25:45.431Z"
   },
   {
    "duration": 232,
    "start_time": "2022-03-13T15:26:30.566Z"
   },
   {
    "duration": 4,
    "start_time": "2022-03-13T15:27:11.809Z"
   },
   {
    "duration": 72,
    "start_time": "2022-03-13T15:27:35.279Z"
   },
   {
    "duration": 73,
    "start_time": "2022-03-13T15:28:28.016Z"
   },
   {
    "duration": 73,
    "start_time": "2022-03-13T15:29:29.809Z"
   },
   {
    "duration": 75,
    "start_time": "2022-03-13T15:29:43.503Z"
   },
   {
    "duration": 3,
    "start_time": "2022-03-13T15:32:35.124Z"
   },
   {
    "duration": 30,
    "start_time": "2022-03-13T15:33:23.521Z"
   },
   {
    "duration": 397,
    "start_time": "2022-03-14T12:14:05.074Z"
   },
   {
    "duration": 450,
    "start_time": "2022-03-14T12:14:22.311Z"
   },
   {
    "duration": 995,
    "start_time": "2022-03-14T12:14:33.810Z"
   },
   {
    "duration": 826,
    "start_time": "2022-03-14T12:14:35.672Z"
   },
   {
    "duration": 25,
    "start_time": "2022-03-14T12:14:37.345Z"
   },
   {
    "duration": 33,
    "start_time": "2022-03-14T12:14:38.907Z"
   },
   {
    "duration": 5,
    "start_time": "2022-03-14T12:14:42.375Z"
   },
   {
    "duration": 39,
    "start_time": "2022-03-14T12:14:45.197Z"
   },
   {
    "duration": 5,
    "start_time": "2022-03-14T12:14:47.659Z"
   },
   {
    "duration": 31,
    "start_time": "2022-03-14T12:14:49.470Z"
   },
   {
    "duration": 8193,
    "start_time": "2022-03-14T12:15:08.293Z"
   },
   {
    "duration": 29,
    "start_time": "2022-03-14T12:15:40.670Z"
   },
   {
    "duration": -31615,
    "start_time": "2022-03-14T12:16:26.723Z"
   },
   {
    "duration": 91,
    "start_time": "2022-03-14T12:16:07.484Z"
   },
   {
    "duration": 103,
    "start_time": "2022-03-14T12:16:24.713Z"
   },
   {
    "duration": 83,
    "start_time": "2022-03-14T12:16:44.424Z"
   },
   {
    "duration": 61,
    "start_time": "2022-03-14T12:17:01.480Z"
   },
   {
    "duration": 5,
    "start_time": "2022-03-14T12:17:19.242Z"
   },
   {
    "duration": 59,
    "start_time": "2022-03-14T12:17:54.089Z"
   },
   {
    "duration": 22,
    "start_time": "2022-03-14T12:18:17.723Z"
   },
   {
    "duration": 4,
    "start_time": "2022-03-14T12:18:48.625Z"
   },
   {
    "duration": 4,
    "start_time": "2022-03-14T12:18:50.555Z"
   },
   {
    "duration": 59,
    "start_time": "2022-03-14T12:19:20.729Z"
   },
   {
    "duration": 86,
    "start_time": "2022-03-14T12:19:35.209Z"
   },
   {
    "duration": 146,
    "start_time": "2022-03-14T12:19:38.004Z"
   },
   {
    "duration": 106,
    "start_time": "2022-03-14T12:19:39.192Z"
   },
   {
    "duration": 100,
    "start_time": "2022-03-14T12:19:41.373Z"
   },
   {
    "duration": 4,
    "start_time": "2022-03-14T12:19:43.545Z"
   },
   {
    "duration": 22,
    "start_time": "2022-03-14T12:19:45.006Z"
   },
   {
    "duration": 58,
    "start_time": "2022-03-14T12:19:46.479Z"
   },
   {
    "duration": 384,
    "start_time": "2022-03-14T12:40:05.633Z"
   },
   {
    "duration": 57,
    "start_time": "2022-03-14T12:40:11.456Z"
   },
   {
    "duration": 459,
    "start_time": "2022-03-15T13:43:14.937Z"
   },
   {
    "duration": 4,
    "start_time": "2022-03-15T13:46:08.457Z"
   },
   {
    "duration": 700,
    "start_time": "2022-03-15T13:46:11.007Z"
   },
   {
    "duration": 18,
    "start_time": "2022-03-15T13:46:15.999Z"
   },
   {
    "duration": 32,
    "start_time": "2022-03-15T13:46:18.103Z"
   },
   {
    "duration": 5,
    "start_time": "2022-03-15T13:46:21.884Z"
   },
   {
    "duration": 41,
    "start_time": "2022-03-15T13:46:24.980Z"
   },
   {
    "duration": 5,
    "start_time": "2022-03-15T13:46:27.769Z"
   },
   {
    "duration": 20,
    "start_time": "2022-03-15T13:47:21.244Z"
   },
   {
    "duration": 5,
    "start_time": "2022-03-15T13:47:26.546Z"
   },
   {
    "duration": 29,
    "start_time": "2022-03-15T13:47:29.282Z"
   },
   {
    "duration": 23,
    "start_time": "2022-03-15T13:47:31.147Z"
   },
   {
    "duration": 30,
    "start_time": "2022-03-15T13:47:32.562Z"
   },
   {
    "duration": 85,
    "start_time": "2022-03-15T13:47:33.892Z"
   },
   {
    "duration": 89,
    "start_time": "2022-03-15T13:47:34.906Z"
   },
   {
    "duration": 78,
    "start_time": "2022-03-15T13:47:35.928Z"
   },
   {
    "duration": 60,
    "start_time": "2022-03-15T13:47:38.025Z"
   },
   {
    "duration": 4,
    "start_time": "2022-03-15T13:47:39.399Z"
   },
   {
    "duration": 21,
    "start_time": "2022-03-15T13:47:40.851Z"
   },
   {
    "duration": 57,
    "start_time": "2022-03-15T13:47:42.564Z"
   },
   {
    "duration": 47,
    "start_time": "2022-03-15T13:47:48.228Z"
   },
   {
    "duration": 7,
    "start_time": "2022-03-15T13:49:39.294Z"
   },
   {
    "duration": 310,
    "start_time": "2022-03-15T13:50:13.563Z"
   },
   {
    "duration": 45,
    "start_time": "2022-03-15T13:50:51.185Z"
   },
   {
    "duration": 5,
    "start_time": "2022-03-15T14:02:42.929Z"
   },
   {
    "duration": 14,
    "start_time": "2022-03-15T14:02:56.721Z"
   },
   {
    "duration": 14,
    "start_time": "2022-03-15T14:03:18.301Z"
   },
   {
    "duration": 5,
    "start_time": "2022-03-15T14:05:56.712Z"
   },
   {
    "duration": 32,
    "start_time": "2022-03-15T14:05:59.003Z"
   },
   {
    "duration": 28,
    "start_time": "2022-03-15T14:06:00.893Z"
   },
   {
    "duration": 28,
    "start_time": "2022-03-15T14:06:24.606Z"
   },
   {
    "duration": 40,
    "start_time": "2022-03-15T14:08:57.795Z"
   },
   {
    "duration": 48,
    "start_time": "2022-03-15T14:09:03.135Z"
   },
   {
    "duration": 15,
    "start_time": "2022-03-15T14:11:03.787Z"
   },
   {
    "duration": 14,
    "start_time": "2022-03-15T14:11:14.611Z"
   },
   {
    "duration": 13,
    "start_time": "2022-03-15T14:11:24.436Z"
   },
   {
    "duration": 5,
    "start_time": "2022-03-15T14:12:00.937Z"
   },
   {
    "duration": 34,
    "start_time": "2022-03-15T14:12:03.989Z"
   },
   {
    "duration": 4,
    "start_time": "2022-03-15T14:12:47.680Z"
   },
   {
    "duration": 1525,
    "start_time": "2022-03-15T14:12:50.630Z"
   },
   {
    "duration": 1491,
    "start_time": "2022-03-15T14:12:52.301Z"
   },
   {
    "duration": 6,
    "start_time": "2022-03-15T14:14:35.256Z"
   },
   {
    "duration": 36,
    "start_time": "2022-03-15T14:14:38.941Z"
   },
   {
    "duration": 29,
    "start_time": "2022-03-15T14:14:45.129Z"
   },
   {
    "duration": 35,
    "start_time": "2022-03-15T14:14:47.027Z"
   },
   {
    "duration": 4,
    "start_time": "2022-03-15T14:14:56.923Z"
   },
   {
    "duration": 21,
    "start_time": "2022-03-15T14:14:57.832Z"
   },
   {
    "duration": 18,
    "start_time": "2022-03-15T14:14:58.473Z"
   },
   {
    "duration": 20,
    "start_time": "2022-03-15T14:14:58.887Z"
   },
   {
    "duration": 19,
    "start_time": "2022-03-15T14:15:49.155Z"
   },
   {
    "duration": 22,
    "start_time": "2022-03-15T14:15:49.543Z"
   },
   {
    "duration": 20,
    "start_time": "2022-03-15T14:15:49.871Z"
   },
   {
    "duration": 19,
    "start_time": "2022-03-15T14:17:43.580Z"
   },
   {
    "duration": 23,
    "start_time": "2022-03-15T14:17:45.555Z"
   },
   {
    "duration": 482,
    "start_time": "2022-03-15T14:19:33.146Z"
   },
   {
    "duration": 20,
    "start_time": "2022-03-15T14:19:39.132Z"
   },
   {
    "duration": 17,
    "start_time": "2022-03-15T14:19:40.066Z"
   },
   {
    "duration": 17,
    "start_time": "2022-03-15T14:19:40.527Z"
   },
   {
    "duration": 17,
    "start_time": "2022-03-15T14:19:40.894Z"
   },
   {
    "duration": 20,
    "start_time": "2022-03-15T14:19:41.268Z"
   },
   {
    "duration": 18,
    "start_time": "2022-03-15T14:19:41.641Z"
   },
   {
    "duration": 22,
    "start_time": "2022-03-15T14:19:51.054Z"
   },
   {
    "duration": 18,
    "start_time": "2022-03-15T14:19:57.656Z"
   },
   {
    "duration": 540,
    "start_time": "2022-03-15T14:20:15.709Z"
   },
   {
    "duration": 373,
    "start_time": "2022-03-15T14:20:27.414Z"
   },
   {
    "duration": 329,
    "start_time": "2022-03-15T14:20:51.421Z"
   },
   {
    "duration": 19,
    "start_time": "2022-03-15T14:22:47.138Z"
   },
   {
    "duration": 18,
    "start_time": "2022-03-15T14:22:47.872Z"
   },
   {
    "duration": 21,
    "start_time": "2022-03-15T14:22:48.394Z"
   },
   {
    "duration": 19,
    "start_time": "2022-03-15T14:22:48.748Z"
   },
   {
    "duration": 13,
    "start_time": "2022-03-15T14:23:57.041Z"
   },
   {
    "duration": 16,
    "start_time": "2022-03-15T14:25:35.135Z"
   },
   {
    "duration": 35,
    "start_time": "2022-03-15T14:25:39.877Z"
   },
   {
    "duration": 15,
    "start_time": "2022-03-15T14:25:52.185Z"
   },
   {
    "duration": 14,
    "start_time": "2022-03-15T14:26:07.284Z"
   },
   {
    "duration": 29,
    "start_time": "2022-03-15T14:26:14.587Z"
   },
   {
    "duration": 335,
    "start_time": "2022-03-15T14:31:30.480Z"
   },
   {
    "duration": 6,
    "start_time": "2022-03-15T14:31:33.230Z"
   },
   {
    "duration": 318,
    "start_time": "2022-03-15T14:31:35.947Z"
   },
   {
    "duration": 8326,
    "start_time": "2022-03-15T14:31:48.749Z"
   },
   {
    "duration": 8331,
    "start_time": "2022-03-15T14:32:04.420Z"
   },
   {
    "duration": 5,
    "start_time": "2022-03-15T14:33:26.019Z"
   },
   {
    "duration": 22,
    "start_time": "2022-03-15T14:33:28.876Z"
   },
   {
    "duration": 5,
    "start_time": "2022-03-15T14:34:39.966Z"
   },
   {
    "duration": 24,
    "start_time": "2022-03-15T14:34:42.524Z"
   },
   {
    "duration": 6,
    "start_time": "2022-03-15T14:36:25.693Z"
   },
   {
    "duration": 26,
    "start_time": "2022-03-15T14:36:28.020Z"
   },
   {
    "duration": 24,
    "start_time": "2022-03-15T14:36:44.799Z"
   },
   {
    "duration": 18,
    "start_time": "2022-03-15T14:37:07.593Z"
   },
   {
    "duration": 26,
    "start_time": "2022-03-15T14:37:32.350Z"
   },
   {
    "duration": 17,
    "start_time": "2022-03-15T14:37:51.167Z"
   },
   {
    "duration": 362,
    "start_time": "2022-03-15T14:39:45.993Z"
   },
   {
    "duration": 335,
    "start_time": "2022-03-15T14:39:51.845Z"
   },
   {
    "duration": 16,
    "start_time": "2022-03-15T14:40:18.328Z"
   },
   {
    "duration": 104,
    "start_time": "2022-03-15T14:41:03.038Z"
   },
   {
    "duration": 360,
    "start_time": "2022-03-15T14:41:25.425Z"
   },
   {
    "duration": 32,
    "start_time": "2022-03-15T14:41:31.612Z"
   },
   {
    "duration": 31,
    "start_time": "2022-03-15T14:41:40.461Z"
   },
   {
    "duration": 40,
    "start_time": "2022-03-15T14:41:44.362Z"
   },
   {
    "duration": 38,
    "start_time": "2022-03-15T14:41:49.587Z"
   },
   {
    "duration": 12,
    "start_time": "2022-03-15T14:42:10.505Z"
   },
   {
    "duration": 18,
    "start_time": "2022-03-15T14:42:27.490Z"
   },
   {
    "duration": 13,
    "start_time": "2022-03-15T14:42:38.033Z"
   },
   {
    "duration": 313,
    "start_time": "2022-03-15T14:47:27.410Z"
   },
   {
    "duration": 11,
    "start_time": "2022-03-15T14:47:35.261Z"
   },
   {
    "duration": 14,
    "start_time": "2022-03-15T14:47:41.463Z"
   },
   {
    "duration": 6,
    "start_time": "2022-03-15T14:48:04.461Z"
   },
   {
    "duration": 13,
    "start_time": "2022-03-15T14:49:13.001Z"
   },
   {
    "duration": 8,
    "start_time": "2022-03-15T14:49:45.975Z"
   },
   {
    "duration": 8,
    "start_time": "2022-03-15T14:49:49.281Z"
   },
   {
    "duration": 7,
    "start_time": "2022-03-15T14:53:40.735Z"
   },
   {
    "duration": 7,
    "start_time": "2022-03-15T14:53:52.897Z"
   },
   {
    "duration": 548,
    "start_time": "2022-03-22T21:02:19.376Z"
   },
   {
    "duration": 300,
    "start_time": "2022-03-22T21:02:19.926Z"
   },
   {
    "duration": 27,
    "start_time": "2022-03-22T21:02:20.228Z"
   },
   {
    "duration": 44,
    "start_time": "2022-03-22T21:02:20.273Z"
   },
   {
    "duration": 6,
    "start_time": "2022-03-22T21:02:20.320Z"
   },
   {
    "duration": 45,
    "start_time": "2022-03-22T21:02:20.329Z"
   },
   {
    "duration": 19,
    "start_time": "2022-03-22T21:02:20.377Z"
   },
   {
    "duration": 34,
    "start_time": "2022-03-22T21:02:20.398Z"
   },
   {
    "duration": 24,
    "start_time": "2022-03-22T21:02:20.434Z"
   },
   {
    "duration": 36,
    "start_time": "2022-03-22T21:02:20.468Z"
   },
   {
    "duration": 124,
    "start_time": "2022-03-22T21:02:20.507Z"
   },
   {
    "duration": 130,
    "start_time": "2022-03-22T21:02:20.634Z"
   },
   {
    "duration": 112,
    "start_time": "2022-03-22T21:02:20.770Z"
   },
   {
    "duration": 55,
    "start_time": "2022-03-22T21:02:20.892Z"
   },
   {
    "duration": 31,
    "start_time": "2022-03-22T21:02:20.949Z"
   },
   {
    "duration": 51,
    "start_time": "2022-03-22T21:02:20.982Z"
   },
   {
    "duration": 69,
    "start_time": "2022-03-22T21:02:21.035Z"
   },
   {
    "duration": 16,
    "start_time": "2022-03-22T21:02:21.107Z"
   },
   {
    "duration": 16,
    "start_time": "2022-03-22T21:02:21.125Z"
   },
   {
    "duration": 9,
    "start_time": "2022-03-22T21:02:21.170Z"
   },
   {
    "duration": 40,
    "start_time": "2022-03-22T21:02:21.182Z"
   },
   {
    "duration": 22,
    "start_time": "2022-03-22T21:02:21.225Z"
   },
   {
    "duration": 55,
    "start_time": "2022-03-22T21:02:21.249Z"
   },
   {
    "duration": 35,
    "start_time": "2022-03-22T21:02:21.307Z"
   },
   {
    "duration": 28,
    "start_time": "2022-03-22T21:02:21.345Z"
   },
   {
    "duration": 35,
    "start_time": "2022-03-22T21:02:21.376Z"
   },
   {
    "duration": 18,
    "start_time": "2022-03-22T21:02:21.414Z"
   },
   {
    "duration": 30,
    "start_time": "2022-03-22T21:02:21.434Z"
   },
   {
    "duration": 17,
    "start_time": "2022-03-22T21:02:21.472Z"
   },
   {
    "duration": 12,
    "start_time": "2022-03-22T21:02:21.495Z"
   },
   {
    "duration": 36,
    "start_time": "2022-03-22T21:02:21.510Z"
   },
   {
    "duration": 41,
    "start_time": "2022-03-22T21:02:21.548Z"
   },
   {
    "duration": 25,
    "start_time": "2022-03-22T21:02:21.592Z"
   },
   {
    "duration": 21,
    "start_time": "2022-03-22T21:02:21.620Z"
   },
   {
    "duration": 33,
    "start_time": "2022-03-22T21:02:21.644Z"
   },
   {
    "duration": 15,
    "start_time": "2022-03-22T21:02:21.679Z"
   },
   {
    "duration": 23,
    "start_time": "2022-03-22T21:02:21.696Z"
   },
   {
    "duration": 10,
    "start_time": "2022-03-22T21:02:21.721Z"
   },
   {
    "duration": 48,
    "start_time": "2022-03-23T14:48:44.285Z"
   },
   {
    "duration": 7,
    "start_time": "2022-03-23T14:48:59.372Z"
   },
   {
    "duration": 392,
    "start_time": "2022-03-23T14:49:05.060Z"
   },
   {
    "duration": 564,
    "start_time": "2022-03-23T14:49:05.746Z"
   },
   {
    "duration": 17,
    "start_time": "2022-03-23T14:49:06.312Z"
   },
   {
    "duration": 31,
    "start_time": "2022-03-23T14:49:06.950Z"
   },
   {
    "duration": 4,
    "start_time": "2022-03-23T14:49:09.155Z"
   },
   {
    "duration": 14,
    "start_time": "2022-03-23T14:49:12.232Z"
   },
   {
    "duration": 5,
    "start_time": "2022-03-23T14:49:14.055Z"
   },
   {
    "duration": 25,
    "start_time": "2022-03-23T14:49:18.441Z"
   },
   {
    "duration": 115,
    "start_time": "2022-03-23T14:50:34.205Z"
   },
   {
    "duration": 25,
    "start_time": "2022-03-23T14:50:46.417Z"
   },
   {
    "duration": 75,
    "start_time": "2022-03-23T14:51:12.365Z"
   },
   {
    "duration": 93,
    "start_time": "2022-03-23T14:51:40.518Z"
   },
   {
    "duration": 78,
    "start_time": "2022-03-23T14:51:46.355Z"
   },
   {
    "duration": 67,
    "start_time": "2022-03-23T14:51:47.487Z"
   },
   {
    "duration": 74,
    "start_time": "2022-03-23T14:52:08.776Z"
   },
   {
    "duration": 74,
    "start_time": "2022-03-23T14:52:16.860Z"
   },
   {
    "duration": 77,
    "start_time": "2022-03-23T14:52:31.543Z"
   },
   {
    "duration": 80,
    "start_time": "2022-03-23T14:52:35.818Z"
   },
   {
    "duration": 76,
    "start_time": "2022-03-23T14:52:38.478Z"
   },
   {
    "duration": 78,
    "start_time": "2022-03-23T14:52:54.607Z"
   },
   {
    "duration": 82,
    "start_time": "2022-03-23T14:53:05.282Z"
   },
   {
    "duration": 81,
    "start_time": "2022-03-23T14:53:22.126Z"
   },
   {
    "duration": 91,
    "start_time": "2022-03-23T14:53:29.811Z"
   },
   {
    "duration": 78,
    "start_time": "2022-03-23T14:54:38.858Z"
   },
   {
    "duration": 86,
    "start_time": "2022-03-23T14:54:47.890Z"
   },
   {
    "duration": 77,
    "start_time": "2022-03-23T14:54:49.838Z"
   },
   {
    "duration": 80,
    "start_time": "2022-03-23T14:54:52.858Z"
   },
   {
    "duration": 79,
    "start_time": "2022-03-23T14:54:58.417Z"
   },
   {
    "duration": 79,
    "start_time": "2022-03-23T14:55:05.550Z"
   },
   {
    "duration": 74,
    "start_time": "2022-03-23T14:55:11.387Z"
   },
   {
    "duration": 79,
    "start_time": "2022-03-23T14:55:15.159Z"
   },
   {
    "duration": 3,
    "start_time": "2022-03-23T14:55:28.151Z"
   },
   {
    "duration": 165,
    "start_time": "2022-03-23T14:55:28.156Z"
   },
   {
    "duration": 21,
    "start_time": "2022-03-23T14:55:28.322Z"
   },
   {
    "duration": 40,
    "start_time": "2022-03-23T14:55:28.345Z"
   },
   {
    "duration": 4,
    "start_time": "2022-03-23T14:55:28.387Z"
   },
   {
    "duration": 14,
    "start_time": "2022-03-23T14:55:28.393Z"
   },
   {
    "duration": 11,
    "start_time": "2022-03-23T14:55:28.409Z"
   },
   {
    "duration": 39,
    "start_time": "2022-03-23T14:55:28.421Z"
   },
   {
    "duration": 21,
    "start_time": "2022-03-23T14:55:28.464Z"
   },
   {
    "duration": 26,
    "start_time": "2022-03-23T14:55:28.487Z"
   },
   {
    "duration": 66,
    "start_time": "2022-03-23T14:55:28.539Z"
   },
   {
    "duration": 97,
    "start_time": "2022-03-23T14:55:28.607Z"
   },
   {
    "duration": 72,
    "start_time": "2022-03-23T14:55:28.706Z"
   },
   {
    "duration": 40,
    "start_time": "2022-03-23T14:55:28.779Z"
   },
   {
    "duration": 19,
    "start_time": "2022-03-23T14:55:28.820Z"
   },
   {
    "duration": 33,
    "start_time": "2022-03-23T14:55:28.841Z"
   },
   {
    "duration": 38,
    "start_time": "2022-03-23T14:55:28.876Z"
   },
   {
    "duration": 22,
    "start_time": "2022-03-23T14:55:28.916Z"
   },
   {
    "duration": 13,
    "start_time": "2022-03-23T14:55:28.940Z"
   },
   {
    "duration": 5,
    "start_time": "2022-03-23T14:55:28.955Z"
   },
   {
    "duration": 31,
    "start_time": "2022-03-23T14:55:28.962Z"
   },
   {
    "duration": 19,
    "start_time": "2022-03-23T14:55:28.995Z"
   },
   {
    "duration": 35,
    "start_time": "2022-03-23T14:55:29.016Z"
   },
   {
    "duration": 15,
    "start_time": "2022-03-23T14:55:29.056Z"
   },
   {
    "duration": 17,
    "start_time": "2022-03-23T14:55:29.073Z"
   },
   {
    "duration": 15,
    "start_time": "2022-03-23T14:55:29.092Z"
   },
   {
    "duration": 9,
    "start_time": "2022-03-23T14:55:29.139Z"
   },
   {
    "duration": 14,
    "start_time": "2022-03-23T14:55:29.150Z"
   },
   {
    "duration": 11,
    "start_time": "2022-03-23T14:55:29.166Z"
   },
   {
    "duration": 6,
    "start_time": "2022-03-23T14:55:29.178Z"
   },
   {
    "duration": 24,
    "start_time": "2022-03-23T14:55:29.185Z"
   },
   {
    "duration": 35,
    "start_time": "2022-03-23T14:55:29.210Z"
   },
   {
    "duration": 16,
    "start_time": "2022-03-23T14:55:29.247Z"
   },
   {
    "duration": 11,
    "start_time": "2022-03-23T14:55:29.265Z"
   },
   {
    "duration": 11,
    "start_time": "2022-03-23T14:55:29.278Z"
   },
   {
    "duration": 9,
    "start_time": "2022-03-23T14:55:29.290Z"
   },
   {
    "duration": 37,
    "start_time": "2022-03-23T14:55:29.301Z"
   },
   {
    "duration": 5,
    "start_time": "2022-03-23T14:55:29.340Z"
   },
   {
    "duration": 132,
    "start_time": "2022-03-23T14:56:27.266Z"
   },
   {
    "duration": 62,
    "start_time": "2022-03-23T14:57:12.956Z"
   },
   {
    "duration": 3,
    "start_time": "2022-03-23T14:57:55.801Z"
   },
   {
    "duration": 130,
    "start_time": "2022-03-23T14:58:37.495Z"
   }
  ],
  "colab": {
   "collapsed_sections": [
    "E0vqbgi9ay0H",
    "VUC88oWjTJw2"
   ],
   "name": "yandex_music_project_2021.2.ipynb",
   "provenance": []
  },
  "kernelspec": {
   "display_name": "Python 3",
   "language": "python",
   "name": "python3"
  },
  "language_info": {
   "codemirror_mode": {
    "name": "ipython",
    "version": 3
   },
   "file_extension": ".py",
   "mimetype": "text/x-python",
   "name": "python",
   "nbconvert_exporter": "python",
   "pygments_lexer": "ipython3",
   "version": "3.8.8"
  },
  "toc": {
   "base_numbering": 1,
   "nav_menu": {},
   "number_sections": true,
   "sideBar": true,
   "skip_h1_title": true,
   "title_cell": "Table of Contents",
   "title_sidebar": "Contents",
   "toc_cell": false,
   "toc_position": {},
   "toc_section_display": true,
   "toc_window_display": true
  }
 },
 "nbformat": 4,
 "nbformat_minor": 1
}
